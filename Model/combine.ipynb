{
  "cells": [
    {
      "cell_type": "markdown",
      "metadata": {
        "id": "Gr4zdOw9pkCU"
      },
      "source": [
        "## **HW4 Principal Component Analysis**"
      ]
    },
    {
      "cell_type": "markdown",
      "metadata": {
        "id": "zhSfW8XWpkCX"
      },
      "source": [
        "# 1. Introduction\n",
        "Congratulations on reaching the final assignment! In this assignment, you will learn how to use Principal Components Analysis (PCA) to reduce the dimensionality of high-dimensional data. Additionally, you will compare various differences between the original high-dimensional data and the transformed data obtained through PCA."
      ]
    },
    {
      "cell_type": "code",
      "execution_count": 1,
      "metadata": {
        "colab": {
          "base_uri": "https://localhost:8080/"
        },
        "id": "PLx_RfeQab4d",
        "outputId": "bb24ed31-101d-4f79-f783-7de04a55abb1"
      },
      "outputs": [
        {
          "output_type": "stream",
          "name": "stdout",
          "text": [
            "Mounted at /content/drive\n"
          ]
        }
      ],
      "source": [
        "from google.colab import drive\n",
        "drive.mount('/content/drive')"
      ]
    },
    {
      "cell_type": "code",
      "execution_count": 2,
      "metadata": {
        "colab": {
          "base_uri": "https://localhost:8080/"
        },
        "id": "2vLifWpRpkCY",
        "outputId": "7f88e249-af41-40e7-e24b-f727116131a5"
      },
      "outputs": [
        {
          "output_type": "stream",
          "name": "stdout",
          "text": [
            "Collecting import_ipynb\n",
            "  Downloading import_ipynb-0.1.4-py3-none-any.whl (4.1 kB)\n",
            "Requirement already satisfied: IPython in /usr/local/lib/python3.10/dist-packages (from import_ipynb) (7.34.0)\n",
            "Requirement already satisfied: nbformat in /usr/local/lib/python3.10/dist-packages (from import_ipynb) (5.9.2)\n",
            "Requirement already satisfied: setuptools>=18.5 in /usr/local/lib/python3.10/dist-packages (from IPython->import_ipynb) (67.7.2)\n",
            "Collecting jedi>=0.16 (from IPython->import_ipynb)\n",
            "  Downloading jedi-0.19.1-py2.py3-none-any.whl (1.6 MB)\n",
            "\u001b[2K     \u001b[90m━━━━━━━━━━━━━━━━━━━━━━━━━━━━━━━━━━━━━━━━\u001b[0m \u001b[32m1.6/1.6 MB\u001b[0m \u001b[31m8.6 MB/s\u001b[0m eta \u001b[36m0:00:00\u001b[0m\n",
            "\u001b[?25hRequirement already satisfied: decorator in /usr/local/lib/python3.10/dist-packages (from IPython->import_ipynb) (4.4.2)\n",
            "Requirement already satisfied: pickleshare in /usr/local/lib/python3.10/dist-packages (from IPython->import_ipynb) (0.7.5)\n",
            "Requirement already satisfied: traitlets>=4.2 in /usr/local/lib/python3.10/dist-packages (from IPython->import_ipynb) (5.7.1)\n",
            "Requirement already satisfied: prompt-toolkit!=3.0.0,!=3.0.1,<3.1.0,>=2.0.0 in /usr/local/lib/python3.10/dist-packages (from IPython->import_ipynb) (3.0.43)\n",
            "Requirement already satisfied: pygments in /usr/local/lib/python3.10/dist-packages (from IPython->import_ipynb) (2.16.1)\n",
            "Requirement already satisfied: backcall in /usr/local/lib/python3.10/dist-packages (from IPython->import_ipynb) (0.2.0)\n",
            "Requirement already satisfied: matplotlib-inline in /usr/local/lib/python3.10/dist-packages (from IPython->import_ipynb) (0.1.6)\n",
            "Requirement already satisfied: pexpect>4.3 in /usr/local/lib/python3.10/dist-packages (from IPython->import_ipynb) (4.9.0)\n",
            "Requirement already satisfied: fastjsonschema in /usr/local/lib/python3.10/dist-packages (from nbformat->import_ipynb) (2.19.1)\n",
            "Requirement already satisfied: jsonschema>=2.6 in /usr/local/lib/python3.10/dist-packages (from nbformat->import_ipynb) (4.19.2)\n",
            "Requirement already satisfied: jupyter-core in /usr/local/lib/python3.10/dist-packages (from nbformat->import_ipynb) (5.7.0)\n",
            "Requirement already satisfied: parso<0.9.0,>=0.8.3 in /usr/local/lib/python3.10/dist-packages (from jedi>=0.16->IPython->import_ipynb) (0.8.3)\n",
            "Requirement already satisfied: attrs>=22.2.0 in /usr/local/lib/python3.10/dist-packages (from jsonschema>=2.6->nbformat->import_ipynb) (23.2.0)\n",
            "Requirement already satisfied: jsonschema-specifications>=2023.03.6 in /usr/local/lib/python3.10/dist-packages (from jsonschema>=2.6->nbformat->import_ipynb) (2023.12.1)\n",
            "Requirement already satisfied: referencing>=0.28.4 in /usr/local/lib/python3.10/dist-packages (from jsonschema>=2.6->nbformat->import_ipynb) (0.32.0)\n",
            "Requirement already satisfied: rpds-py>=0.7.1 in /usr/local/lib/python3.10/dist-packages (from jsonschema>=2.6->nbformat->import_ipynb) (0.16.2)\n",
            "Requirement already satisfied: ptyprocess>=0.5 in /usr/local/lib/python3.10/dist-packages (from pexpect>4.3->IPython->import_ipynb) (0.7.0)\n",
            "Requirement already satisfied: wcwidth in /usr/local/lib/python3.10/dist-packages (from prompt-toolkit!=3.0.0,!=3.0.1,<3.1.0,>=2.0.0->IPython->import_ipynb) (0.2.12)\n",
            "Requirement already satisfied: platformdirs>=2.5 in /usr/local/lib/python3.10/dist-packages (from jupyter-core->nbformat->import_ipynb) (4.1.0)\n",
            "Installing collected packages: jedi, import_ipynb\n",
            "Successfully installed import_ipynb-0.1.4 jedi-0.19.1\n"
          ]
        }
      ],
      "source": [
        "! pip install import_ipynb"
      ]
    },
    {
      "cell_type": "code",
      "execution_count": 3,
      "metadata": {
        "id": "lvoW7FrmpkCZ",
        "colab": {
          "base_uri": "https://localhost:8080/"
        },
        "outputId": "9262272d-732f-40d3-ddea-e4dbb281b8c5"
      },
      "outputs": [
        {
          "output_type": "stream",
          "name": "stdout",
          "text": [
            "importing Jupyter notebook from PCA.ipynb\n",
            "Requirement already satisfied: import_ipynb in /usr/local/lib/python3.10/dist-packages (0.1.4)\n",
            "Requirement already satisfied: IPython in /usr/local/lib/python3.10/dist-packages (from import_ipynb) (7.34.0)\n",
            "Requirement already satisfied: nbformat in /usr/local/lib/python3.10/dist-packages (from import_ipynb) (5.9.2)\n",
            "Requirement already satisfied: setuptools>=18.5 in /usr/local/lib/python3.10/dist-packages (from IPython->import_ipynb) (67.7.2)\n",
            "Requirement already satisfied: jedi>=0.16 in /usr/local/lib/python3.10/dist-packages (from IPython->import_ipynb) (0.19.1)\n",
            "Requirement already satisfied: decorator in /usr/local/lib/python3.10/dist-packages (from IPython->import_ipynb) (4.4.2)\n",
            "Requirement already satisfied: pickleshare in /usr/local/lib/python3.10/dist-packages (from IPython->import_ipynb) (0.7.5)\n",
            "Requirement already satisfied: traitlets>=4.2 in /usr/local/lib/python3.10/dist-packages (from IPython->import_ipynb) (5.7.1)\n",
            "Requirement already satisfied: prompt-toolkit!=3.0.0,!=3.0.1,<3.1.0,>=2.0.0 in /usr/local/lib/python3.10/dist-packages (from IPython->import_ipynb) (3.0.43)\n",
            "Requirement already satisfied: pygments in /usr/local/lib/python3.10/dist-packages (from IPython->import_ipynb) (2.16.1)\n",
            "Requirement already satisfied: backcall in /usr/local/lib/python3.10/dist-packages (from IPython->import_ipynb) (0.2.0)\n",
            "Requirement already satisfied: matplotlib-inline in /usr/local/lib/python3.10/dist-packages (from IPython->import_ipynb) (0.1.6)\n",
            "Requirement already satisfied: pexpect>4.3 in /usr/local/lib/python3.10/dist-packages (from IPython->import_ipynb) (4.9.0)\n",
            "Requirement already satisfied: fastjsonschema in /usr/local/lib/python3.10/dist-packages (from nbformat->import_ipynb) (2.19.1)\n",
            "Requirement already satisfied: jsonschema>=2.6 in /usr/local/lib/python3.10/dist-packages (from nbformat->import_ipynb) (4.19.2)\n",
            "Requirement already satisfied: jupyter-core in /usr/local/lib/python3.10/dist-packages (from nbformat->import_ipynb) (5.7.0)\n",
            "Requirement already satisfied: parso<0.9.0,>=0.8.3 in /usr/local/lib/python3.10/dist-packages (from jedi>=0.16->IPython->import_ipynb) (0.8.3)\n",
            "Requirement already satisfied: attrs>=22.2.0 in /usr/local/lib/python3.10/dist-packages (from jsonschema>=2.6->nbformat->import_ipynb) (23.2.0)\n",
            "Requirement already satisfied: jsonschema-specifications>=2023.03.6 in /usr/local/lib/python3.10/dist-packages (from jsonschema>=2.6->nbformat->import_ipynb) (2023.12.1)\n",
            "Requirement already satisfied: referencing>=0.28.4 in /usr/local/lib/python3.10/dist-packages (from jsonschema>=2.6->nbformat->import_ipynb) (0.32.0)\n",
            "Requirement already satisfied: rpds-py>=0.7.1 in /usr/local/lib/python3.10/dist-packages (from jsonschema>=2.6->nbformat->import_ipynb) (0.16.2)\n",
            "Requirement already satisfied: ptyprocess>=0.5 in /usr/local/lib/python3.10/dist-packages (from pexpect>4.3->IPython->import_ipynb) (0.7.0)\n",
            "Requirement already satisfied: wcwidth in /usr/local/lib/python3.10/dist-packages (from prompt-toolkit!=3.0.0,!=3.0.1,<3.1.0,>=2.0.0->IPython->import_ipynb) (0.2.12)\n",
            "Requirement already satisfied: platformdirs>=2.5 in /usr/local/lib/python3.10/dist-packages (from jupyter-core->nbformat->import_ipynb) (4.1.0)\n",
            "importing Jupyter notebook from Data_preprocess.ipynb\n",
            "importing Jupyter notebook from Model.ipynb\n",
            "importing Jupyter notebook from Loss.ipynb\n",
            "importing Jupyter notebook from Utils.ipynb\n",
            "importing Jupyter notebook from Trainer.ipynb\n",
            "Requirement already satisfied: import_ipynb in /usr/local/lib/python3.10/dist-packages (0.1.4)\n",
            "Requirement already satisfied: IPython in /usr/local/lib/python3.10/dist-packages (from import_ipynb) (7.34.0)\n",
            "Requirement already satisfied: nbformat in /usr/local/lib/python3.10/dist-packages (from import_ipynb) (5.9.2)\n",
            "Requirement already satisfied: setuptools>=18.5 in /usr/local/lib/python3.10/dist-packages (from IPython->import_ipynb) (67.7.2)\n",
            "Requirement already satisfied: jedi>=0.16 in /usr/local/lib/python3.10/dist-packages (from IPython->import_ipynb) (0.19.1)\n",
            "Requirement already satisfied: decorator in /usr/local/lib/python3.10/dist-packages (from IPython->import_ipynb) (4.4.2)\n",
            "Requirement already satisfied: pickleshare in /usr/local/lib/python3.10/dist-packages (from IPython->import_ipynb) (0.7.5)\n",
            "Requirement already satisfied: traitlets>=4.2 in /usr/local/lib/python3.10/dist-packages (from IPython->import_ipynb) (5.7.1)\n",
            "Requirement already satisfied: prompt-toolkit!=3.0.0,!=3.0.1,<3.1.0,>=2.0.0 in /usr/local/lib/python3.10/dist-packages (from IPython->import_ipynb) (3.0.43)\n",
            "Requirement already satisfied: pygments in /usr/local/lib/python3.10/dist-packages (from IPython->import_ipynb) (2.16.1)\n",
            "Requirement already satisfied: backcall in /usr/local/lib/python3.10/dist-packages (from IPython->import_ipynb) (0.2.0)\n",
            "Requirement already satisfied: matplotlib-inline in /usr/local/lib/python3.10/dist-packages (from IPython->import_ipynb) (0.1.6)\n",
            "Requirement already satisfied: pexpect>4.3 in /usr/local/lib/python3.10/dist-packages (from IPython->import_ipynb) (4.9.0)\n",
            "Requirement already satisfied: fastjsonschema in /usr/local/lib/python3.10/dist-packages (from nbformat->import_ipynb) (2.19.1)\n",
            "Requirement already satisfied: jsonschema>=2.6 in /usr/local/lib/python3.10/dist-packages (from nbformat->import_ipynb) (4.19.2)\n",
            "Requirement already satisfied: jupyter-core in /usr/local/lib/python3.10/dist-packages (from nbformat->import_ipynb) (5.7.0)\n",
            "Requirement already satisfied: parso<0.9.0,>=0.8.3 in /usr/local/lib/python3.10/dist-packages (from jedi>=0.16->IPython->import_ipynb) (0.8.3)\n",
            "Requirement already satisfied: attrs>=22.2.0 in /usr/local/lib/python3.10/dist-packages (from jsonschema>=2.6->nbformat->import_ipynb) (23.2.0)\n",
            "Requirement already satisfied: jsonschema-specifications>=2023.03.6 in /usr/local/lib/python3.10/dist-packages (from jsonschema>=2.6->nbformat->import_ipynb) (2023.12.1)\n",
            "Requirement already satisfied: referencing>=0.28.4 in /usr/local/lib/python3.10/dist-packages (from jsonschema>=2.6->nbformat->import_ipynb) (0.32.0)\n",
            "Requirement already satisfied: rpds-py>=0.7.1 in /usr/local/lib/python3.10/dist-packages (from jsonschema>=2.6->nbformat->import_ipynb) (0.16.2)\n",
            "Requirement already satisfied: ptyprocess>=0.5 in /usr/local/lib/python3.10/dist-packages (from pexpect>4.3->IPython->import_ipynb) (0.7.0)\n",
            "Requirement already satisfied: wcwidth in /usr/local/lib/python3.10/dist-packages (from prompt-toolkit!=3.0.0,!=3.0.1,<3.1.0,>=2.0.0->IPython->import_ipynb) (0.2.12)\n",
            "Requirement already satisfied: platformdirs>=2.5 in /usr/local/lib/python3.10/dist-packages (from jupyter-core->nbformat->import_ipynb) (4.1.0)\n",
            "importing Jupyter notebook from Config.ipynb\n"
          ]
        }
      ],
      "source": [
        "'''\n",
        "You are not allowed to import other packages\n",
        "\n",
        "If you cannot import the following ipynb file, Please run the ipynb file first and then restart the HW4.ipynb.\n",
        "'''\n",
        "\n",
        "import numpy as np\n",
        "import matplotlib.pyplot as plt\n",
        "from sklearn.metrics import f1_score\n",
        "import math\n",
        "from tqdm import tqdm\n",
        "import time\n",
        "\n",
        "import import_ipynb\n",
        "from PCA import MY_PCA, MY_SparsePCA\n",
        "from Model import *\n",
        "from Loss import *\n",
        "from Utils import *\n",
        "from Data_preprocess import *\n",
        "from Trainer import *\n",
        "from Config import *"
      ]
    },
    {
      "cell_type": "markdown",
      "metadata": {
        "id": "BeYQuTFqpkCa"
      },
      "source": [
        "## Model & Data preprocess"
      ]
    },
    {
      "cell_type": "markdown",
      "metadata": {
        "id": "xVM0YFNGpkCa"
      },
      "source": [
        "As mentioned in Assignment 3, this assignment is closely related to it. Please follow the data preprocessing and model implementation steps from Assignment 3. Note that there are additional constraints on the layer stacking in the model implementation this time. Be sure to follow the prompts for designing the model accordingly.\n",
        "\n",
        "This time, we'll organize different functionalities into separate files for better code readability. For the model and data preprocessing, please implement them in the following files: Loss.ipynb, Model.ipynb, and Data_preprocess.ipynb."
      ]
    },
    {
      "cell_type": "code",
      "execution_count": 4,
      "metadata": {
        "colab": {
          "base_uri": "https://localhost:8080/",
          "height": 1000
        },
        "id": "vloO1iWppkCb",
        "outputId": "700f1a9a-bf42-4693-9fa6-2aef36b6ab59"
      },
      "outputs": [
        {
          "output_type": "stream",
          "name": "stdout",
          "text": [
            "Train: X=(31065, 28, 28), Y=(31065,)\n",
            "Test: X=(7767, 28, 28)\n"
          ]
        },
        {
          "output_type": "display_data",
          "data": {
            "text/plain": [
              "<Figure size 640x480 with 9 Axes>"
            ],
            "image/png": "[encoded data removed]"
          },
          "metadata": {}
        },
        {
          "output_type": "stream",
          "name": "stdout",
          "text": [
            "shape of X_train: (31065, 28, 28)\n",
            "shape of Y_train: (31065, 10)\n",
            "shape of X_test: (7767, 28, 28)\n",
            "\n",
            "shape of X_train: (31065, 784)\n",
            "shape of Y_train: (31065, 10)\n",
            "shape of X_test: (7767, 784)\n",
            "shape of x_train: (24852, 784)\n",
            "shape of y_train: (24852, 10)\n",
            "training data - percentage [0.18, 0.18, 0.14, 0.13, 0.11, 0.08, 0.07, 0.06, 0.04, 0.02]\n",
            "shape of x_val: (6213, 784)\n",
            "shape of y_val: (6213, 10)\n",
            "validation data - percentage [0.18, 0.19, 0.14, 0.12, 0.1, 0.09, 0.07, 0.06, 0.04, 0.02]\n"
          ]
        },
        {
          "output_type": "display_data",
          "data": {
            "text/plain": [
              "<Figure size 1000x400 with 2 Axes>"
            ],
            "image/png": "[encoded data removed]"
          },
          "metadata": {}
        }
      ],
      "source": [
        "X_train, Y_train, X_test = load_data('basic_data.npz')\n",
        "x_train, y_train, x_val, y_val = data_preprocess(X_train, Y_train)"
      ]
    },
    {
      "cell_type": "markdown",
      "metadata": {
        "id": "ous_bColpkCb"
      },
      "source": [
        "# 2. Basic Part"
      ]
    },
    {
      "cell_type": "markdown",
      "metadata": {
        "id": "s_LapbUfpkCc"
      },
      "source": [
        "## PCA Implement\n",
        "In this section, you are required to implement PCA by completing the following steps in the PCA.ipynb file.\n",
        ">* Step1. Centering --> in HW4.ipynb\n",
        ">* Step2. Covariance matrix computation --> in PCA.ipynb\n",
        ">* Step3. Eigenvectors and eigenvalues computation --> in PCA.ipynb\n",
        ">* Step4. Projection --> in PCA.ipynb\n",
        "\n",
        "After implementing PCA, you need to reduce the data to two dimensions, observe the two-dimensional scatter plot of the data, and include it in the report."
      ]
    },
    {
      "cell_type": "code",
      "execution_count": 5,
      "metadata": {
        "id": "QTv9twa-pkCc"
      },
      "outputs": [],
      "source": [
        "# GRADED CODE: Implement centering function. (5%)\n",
        "### START CODE HERE ###\n",
        "'''\n",
        "PCA Step1\n",
        "HINT: It is important to choose the appropriate mean for data centralization..\n",
        "\n",
        "x_train_cent -> Centeralized training data\n",
        "x_val_cent -> Centeralized validation data\n",
        "x_test_cent -> Centeralized testing data\n",
        "'''\n",
        "\n",
        "x_train_cent = x_train - np.mean(x_train, axis = 0)\n",
        "x_val_cent = x_val - np.mean(x_train, axis = 0)\n",
        "X_test_cent = X_test - np.mean(x_train, axis = 0)\n",
        "### END CODE HERE ###"
      ]
    },
    {
      "cell_type": "code",
      "execution_count": 6,
      "metadata": {
        "id": "sNRWK6TBpkCc"
      },
      "outputs": [],
      "source": [
        "# GRADED CODE:\n",
        "# Reduce the dimensions to two and generate scatter plots.\n",
        "# (Training dataset  5%, Validation dataset 5%)\n",
        "\n",
        "### START CODE HERE ###\n",
        "'''\n",
        "x_train_pca -> PCA of training data\n",
        "x_val_pca -> PCA of validation data\n",
        "x_test_pca -> PCA of testing data\n",
        "Please use pca.function(data) to generate PCA of these datasets\n",
        "\n",
        "Parameters:\n",
        "MY_PCA:\n",
        "n_components = Number of components to do the transformation.\n",
        "\n",
        "pca.PCA_visualization:\n",
        "data_pca -> The dataset you want to visuallize.\n",
        "label -> The coresponding labels of the data_pca\n",
        "text -> True if you want to plot the number on the scater plot.\n",
        "tag -> You can set different tag for different figure\n",
        "'''\n",
        "pca = MY_PCA(n_components=2)\n",
        "x_train_pca = pca.fit_transform(x_train_cent)\n",
        "x_val_pca = pca.transform(x_val_cent)\n",
        "x_test_pca = pca.transform(X_test_cent)\n",
        "\n",
        "#pca.PCA_visualization(data_pca=x__pca, label=None, text=None, n_components=2, tag=None)\n",
        "### END CODE HERE ###"
      ]
    },
    {
      "cell_type": "markdown",
      "metadata": {
        "id": "jiHFktMlaVLE"
      },
      "source": [
        "The example PCA visuallization of IRIS Datasets.\n",
        "\n",
        "![figure](./iris_pca.png \"IRIS PCA dataset\")"
      ]
    },
    {
      "cell_type": "code",
      "execution_count": 7,
      "metadata": {
        "colab": {
          "base_uri": "https://localhost:8080/"
        },
        "id": "kTjDI0owpkCd",
        "outputId": "beb509b0-4dbe-4984-adb1-0d8bda90faf2"
      },
      "outputs": [
        {
          "output_type": "stream",
          "name": "stdout",
          "text": [
            "covariance_matrix:  [0.015 0.322 0.322 0.013]\n",
            "x_train_pca: [0.707 3.321]\n",
            "x_val_pca:  [-2.295 -2.88 ]\n"
          ]
        }
      ],
      "source": [
        "# For grading, Please put the basic_cov into your output.npy.\n",
        "basic_cov = pca.covariance_matrix\n",
        "print('covariance_matrix: ', (basic_cov[100][12:16]*10000).round(3))\n",
        "#The reason for multiplying by 10,000 here is that the original values are too small and difficult to observe\n",
        "print(f'x_train_pca:', x_train_pca[0].round(3))\n",
        "print('x_val_pca: ',x_val_pca[0].round(3))"
      ]
    },
    {
      "cell_type": "markdown",
      "metadata": {
        "id": "j4Nho-l8pkCd"
      },
      "source": [
        "**Expected Output**\n",
        "$$ covariance\\_matrix:\\  [0.015\\ \\  0.322\\ \\ 0.322\\ \\ 0.013]$$\n",
        "$$ x\\_train\\_pca:\\ [0.707\\ \\ 3.321]$$\n",
        "$$ x\\_val\\_pca:\\ [-2.295\\  -2.88]$$\n",
        "$$or$$\n",
        "$$ x\\_train\\_pca:\\ [-0.707\\ \\ -3.321]$$\n",
        "$$ x\\_val\\_pca:\\ [2.295\\  2.88]$$"
      ]
    },
    {
      "cell_type": "code",
      "execution_count": 8,
      "metadata": {
        "id": "PQPj1Vg3pkCd"
      },
      "outputs": [],
      "source": [
        "# GRADED CODE: TRAINING MODEL WITH PCA DATA (PCA for Training, Validation and Test Dataset)\n",
        "### START CODE HERE ###\n",
        "'''\n",
        "n_components -> Number fo components of PCA, and it will be the input dimension of your basic model.\n",
        "pca -> Define your MY_PCA class here.\n",
        "\n",
        "x_train_pca -> PCA of training data\n",
        "x_val_pca -> PCA of validation data\n",
        "x_test_pca -> PCA of testing data\n",
        "Please use pca.xxx(data) to generate PCA of these datasets\n",
        "'''\n",
        "\n",
        "n_components = 25\n",
        "pca = MY_PCA(n_components)\n",
        "x_train_pca = pca.fit_transform(x_train_cent)\n",
        "x_val_pca = pca.transform(x_val_cent)\n",
        "x_test_pca = pca.transform(X_test_cent)\n",
        "### END CODE HERE ###\n",
        "\n"
      ]
    },
    {
      "cell_type": "code",
      "execution_count": 9,
      "metadata": {
        "colab": {
          "base_uri": "https://localhost:8080/",
          "height": 472
        },
        "id": "WeKvtQJnpkCd",
        "outputId": "2266f916-d20f-475a-f399-884d2c8cb3d0"
      },
      "outputs": [
        {
          "output_type": "display_data",
          "data": {
            "text/plain": [
              "<Figure size 640x480 with 1 Axes>"
            ],
            "image/png": "[encoded data removed]"
          },
          "metadata": {}
        }
      ],
      "source": [
        "# GRADED CODE: PCA INFORMATION REMAIN RATIO PLOT\n",
        "# Calculate the minimum number of principal components to cover 80% variance (5%)\n",
        "### START CODE HERE ###\n",
        "'''\n",
        "num_PC -> Minimum number of principal components to cover 80% variance\n",
        "var_ratio -> The variance ratio of each component\n",
        "'''\n",
        "\n",
        "num_PC, var_ratio = pca.components_remain_ratio(0.80)\n",
        "### END CODE HERE###\n",
        "\n",
        "\n",
        "plt.plot(var_ratio)\n",
        "plt.axvline(x=num_PC, color='r', linestyle='--')\n",
        "\n",
        "plt.text(x=num_PC+3, y=0.02, s='80%', color='r')\n",
        "plt.title('Information Remain Ratio')\n",
        "plt.xlabel('# of Principle Components')\n",
        "plt.ylabel('Remain Ratio of Data')\n",
        "plt.savefig('Infotmation Remaining Ratio.png')\n",
        "plt.show()\n",
        "plt.close()"
      ]
    },
    {
      "cell_type": "markdown",
      "metadata": {
        "id": "F0uUIbj9aVLF"
      },
      "source": [
        "## Reconstruct  Data & Eigenvectors Visuallization"
      ]
    },
    {
      "cell_type": "code",
      "execution_count": 10,
      "metadata": {
        "id": "8Ldeb1GlpkCd"
      },
      "outputs": [],
      "source": [
        "\n",
        "\n",
        "# GRADED CODE:\n",
        "# Reconstruct image by using K components and compare with the original image (Training data 5%, Validation data 5%)\n",
        "# Visuallize at least one eigenvector\n",
        "# For grading, please put the reconstruct_data_train and the reconstruct_data_val in output.npy\n",
        "reconstruct_data_train, z_train = pca.reconstructData(x_train[0], np.mean(x_train, axis=0), k=4)\n",
        "reconstruct_data_val, z_val = pca.reconstructData(x_val[0], np.mean(x_train, axis=0), k=4)\n",
        "\n",
        "### START CODE HERE ###\n",
        "'''\n",
        "reconstruct_img -> The reconstruct image of x_train[0].\n",
        "eigenvector_img -> The image of eigenvector\n",
        "'''\n",
        "\n",
        "reconstruct_img = reconstruct_data_train.reshape((28,28))\n",
        "eigenvector_img = pca.eigen_vec[:,0].reshape((28,28))\n",
        "### END CODE HERE ###\n",
        "\n",
        "plt.imshow(reconstruct_img, cmap='binary')\n",
        "\n",
        "### Please put the reconstruct img in your report\n",
        "plt.savefig('reconstruct_img.png')\n",
        "plt.close()\n",
        "\n",
        "train_squared_reconstruct_error = np.sum(x_train[0] - reconstruct_data_train)**2/reconstruct_data_train.shape[0]\n",
        "val_squared_reconstruct_error = np.sum(x_val[0] - reconstruct_data_val)**2/reconstruct_data_val.shape[0]"
      ]
    },
    {
      "cell_type": "code",
      "execution_count": 11,
      "metadata": {
        "colab": {
          "base_uri": "https://localhost:8080/"
        },
        "id": "iejLL9ovpkCd",
        "outputId": "4ab0ea16-bd60-4a72-8e77-b60f4b3f43c9"
      },
      "outputs": [
        {
          "output_type": "stream",
          "name": "stdout",
          "text": [
            "k principle components: 40\n",
            "Train Squared Reconstruct Error:  0.043\n",
            "Validation Squared Reconstruct Error:  0.077\n",
            "z:  ['0.707', '3.321', '0.928', '0.603']\n"
          ]
        }
      ],
      "source": [
        "print('k principle components:', num_PC)\n",
        "print('Train Squared Reconstruct Error: ', train_squared_reconstruct_error.round(3))\n",
        "print('Validation Squared Reconstruct Error: ',val_squared_reconstruct_error.round(3))\n",
        "print('z: ', ['%.3f' %(z) for z in z_train])"
      ]
    },
    {
      "cell_type": "markdown",
      "metadata": {
        "id": "NnB72UUYpkCe"
      },
      "source": [
        "**Expected output:**\n",
        "\n",
        "$$ k\\ principle\\ components:  40 $$\n",
        "$$ Train\\ Squared\\ Recontstruct\\ Error:  0.043 $$\n",
        "$$ Validation\\ Squared\\ Reconstruct\\ Error:  0.077 $$\n",
        "$$ z:  [0.707, 3.321, 0.928, 0.603] $$\n",
        "$$or$$\n",
        "$$ z:  [-0.707, -3.321, 0.928, -0.603] $$"
      ]
    },
    {
      "cell_type": "markdown",
      "metadata": {
        "id": "EsNwAICZpkCe"
      },
      "source": [
        "### Model\n",
        "In this part, you need to train your model with low-dimensional data (after PCA) and original data, respectively. Compare the difference between them."
      ]
    },
    {
      "cell_type": "code",
      "execution_count": 12,
      "metadata": {
        "id": "VgeKr5RspkCe"
      },
      "outputs": [],
      "source": [
        "config = Config([x_train.shape[1], 128, 10], 'focal_loss')\n",
        "\n",
        "#CODE: TRAINING MODEL WITHOUT PCA DATA (MODEL SETTING AND TRAINING)\n",
        "\n",
        "# Call Model.ipynb with config to define 'model'\n",
        "# Use Trainer.ipynb to train your model.\n",
        "### START CODE HERE ###\n",
        "model = Model(config)\n",
        "### END CODE HERE ###"
      ]
    },
    {
      "cell_type": "code",
      "execution_count": 13,
      "metadata": {
        "colab": {
          "base_uri": "https://localhost:8080/",
          "height": 273
        },
        "id": "PGtAz5FJXofd",
        "outputId": "cbb99528-2cd1-4043-cc92-fd9cc1b010a4"
      },
      "outputs": [
        {
          "output_type": "stream",
          "name": "stdout",
          "text": [
            "Loss after iteration 0: 15.438854\n"
          ]
        },
        {
          "output_type": "display_data",
          "data": {
            "text/plain": [
              "<Figure size 400x200 with 1 Axes>"
            ],
            "image/png": "[encoded data removed]"
          },
          "metadata": {}
        }
      ],
      "source": [
        "trainer(model, config, x_train, y_train)"
      ]
    },
    {
      "cell_type": "code",
      "execution_count": 14,
      "metadata": {
        "colab": {
          "base_uri": "https://localhost:8080/"
        },
        "id": "7epRCRENpkCe",
        "outputId": "8a05f2f2-22f6-4416-85b5-0e285084fb71"
      },
      "outputs": [
        {
          "output_type": "stream",
          "name": "stdout",
          "text": [
            "Accuracy: 96.97%\n",
            "f1 score for each class: [0.96075206 0.98260773 0.96963706 0.97271318 0.98528302 0.95972325\n",
            " 0.96774194 0.97268908 0.92388451 0.95493562]\n",
            "f1_macro score: 0.96\n"
          ]
        }
      ],
      "source": [
        "pred_train = predict(x_train, y_train, model)"
      ]
    },
    {
      "cell_type": "code",
      "execution_count": 15,
      "metadata": {
        "colab": {
          "base_uri": "https://localhost:8080/"
        },
        "id": "T5DAQ5jUpkCe",
        "outputId": "e974b983-1d2a-4f24-dc79-55db2ba8ba51"
      },
      "outputs": [
        {
          "output_type": "stream",
          "name": "stdout",
          "text": [
            "Accuracy: 94.22%\n",
            "f1 score for each class: [0.94881517 0.97622136 0.9471891  0.94410774 0.95598456 0.90846287\n",
            " 0.93473193 0.92080537 0.87265136 0.81981982]\n",
            "f1_macro score: 0.92\n"
          ]
        }
      ],
      "source": [
        "pred_val = predict(x_val, y_val, model)"
      ]
    },
    {
      "cell_type": "code",
      "execution_count": 16,
      "metadata": {
        "colab": {
          "base_uri": "https://localhost:8080/",
          "height": 273
        },
        "id": "T_PDS-0lpkCe",
        "outputId": "cbd86cea-b7bd-4ab7-8987-cf12fe716baf"
      },
      "outputs": [
        {
          "output_type": "stream",
          "name": "stdout",
          "text": [
            "Loss after iteration 0: 15.304217\n"
          ]
        },
        {
          "output_type": "display_data",
          "data": {
            "text/plain": [
              "<Figure size 400x200 with 1 Axes>"
            ],
            "image/png": "[encoded data removed]"
          },
          "metadata": {}
        }
      ],
      "source": [
        "config = Config([n_components, 128, 10], 'focal_loss')\n",
        "\n",
        "# GRADED CODE: TRAINING MODEL WITH PCA DATA (MODEL SETTING AND TRAINING)\n",
        "# Use PCA and the model from HW3 (advanced part) to train models on the imbalance MNIST dataset. (10%)\n",
        "\n",
        "# Call Model.ipynb with config to define 'model'\n",
        "# Use Trainer.ipynb to train your model.\n",
        "### START CODE HERE ###\n",
        "model = Model(config)\n",
        "trainer(model, config, x_train_pca, y_train)\n",
        "### END CODE HERE ###"
      ]
    },
    {
      "cell_type": "code",
      "execution_count": 17,
      "metadata": {
        "colab": {
          "base_uri": "https://localhost:8080/"
        },
        "id": "WpVSMc_lpkCe",
        "outputId": "6d503d78-079f-4fa6-8bfa-84c8258f073d"
      },
      "outputs": [
        {
          "output_type": "stream",
          "name": "stdout",
          "text": [
            "Accuracy: 95.92%\n",
            "f1 score for each class: [0.95252752 0.97889358 0.96376709 0.96417445 0.97746639 0.94320988\n",
            " 0.94809118 0.95882763 0.89048106 0.91368421]\n",
            "f1_macro score: 0.95\n"
          ]
        }
      ],
      "source": [
        "pred_train = predict(x_train_pca, y_train, model)"
      ]
    },
    {
      "cell_type": "code",
      "execution_count": 18,
      "metadata": {
        "colab": {
          "base_uri": "https://localhost:8080/"
        },
        "id": "nXdbX54cpkCe",
        "outputId": "b400ab2c-6f00-44df-fc8f-4d33851709af"
      },
      "outputs": [
        {
          "output_type": "stream",
          "name": "stdout",
          "text": [
            "Accuracy: 94.48%\n",
            "f1 score for each class: [0.9417383  0.97579948 0.95042735 0.95506372 0.96319018 0.9254766\n",
            " 0.92482916 0.9373297  0.85773196 0.8202765 ]\n",
            "f1_macro score: 0.93\n"
          ]
        }
      ],
      "source": [
        "pred_val = predict(x_val_pca, y_val, model)"
      ]
    },
    {
      "cell_type": "code",
      "execution_count": 19,
      "metadata": {
        "id": "37ZJ32j8pkCe"
      },
      "outputs": [],
      "source": [
        "pred_test = predict(x_test_pca, None, model)\n",
        "outputs = {}\n",
        "\n",
        "### for grading\n",
        "outputs[\"basic_pred_test\"] = pred_test\n",
        "outputs[\"basic_layers_dims\"] = config.layers_dims\n",
        "outputs[\"basic_activation_fn\"] = config.activation_fn\n",
        "outputs[\"basic_loss_function\"] = config.loss_function\n",
        "outputs[\"basic_alpha\"] = config.alpha\n",
        "outputs[\"basic_gamma\"] = config.gamma\n",
        "outputs[\"basic_reconstruct_data_train\"] = reconstruct_data_train\n",
        "outputs[\"basic_reconstruct_data_val\"] = reconstruct_data_val\n",
        "outputs[\"basic_covariance_matrix\"] = basic_cov\n",
        "outputs[\"basic_var_ratio\"] = var_ratio\n",
        "basic_model_parameters = []\n",
        "for basic_linear in model.linear:\n",
        "    basic_model_parameters.append(basic_linear.parameters)\n",
        "outputs[\"basic_model_parameters\"] = basic_model_parameters"
      ]
    },
    {
      "cell_type": "markdown",
      "metadata": {
        "id": "l1Y4-gGvpkCe"
      },
      "source": [
        "# 3. Advanced Part"
      ]
    },
    {
      "cell_type": "markdown",
      "metadata": {
        "id": "vfCmxh4IpkCe"
      },
      "source": [
        "In the advanced section, you will learn how to implement non-linear PCA, Sparse PCA.\n",
        "Please complete the PCA.ipynb file for this purpose."
      ]
    },
    {
      "cell_type": "code",
      "execution_count": 20,
      "metadata": {
        "colab": {
          "base_uri": "https://localhost:8080/",
          "height": 1000
        },
        "id": "78LVwm1GpkCe",
        "outputId": "842cfd21-c3e2-4328-b595-ddfdd39b3035"
      },
      "outputs": [
        {
          "output_type": "stream",
          "name": "stdout",
          "text": [
            "Train: X=(31065, 28, 28), Y=(31065,)\n",
            "Test: X=(7767, 28, 28)\n"
          ]
        },
        {
          "output_type": "display_data",
          "data": {
            "text/plain": [
              "<Figure size 640x480 with 9 Axes>"
            ],
            "image/png": "[encoded data removed]"
          },
          "metadata": {}
        },
        {
          "output_type": "stream",
          "name": "stdout",
          "text": [
            "shape of X_train: (31065, 28, 28)\n",
            "shape of Y_train: (31065, 10)\n",
            "shape of X_test: (7767, 28, 28)\n",
            "\n",
            "shape of X_train: (31065, 784)\n",
            "shape of Y_train: (31065, 10)\n",
            "shape of X_test: (7767, 784)\n",
            "shape of x_train: (24852, 784)\n",
            "shape of y_train: (24852, 10)\n",
            "training data - percentage [0.18, 0.18, 0.14, 0.13, 0.11, 0.08, 0.07, 0.06, 0.04, 0.02]\n",
            "shape of x_val: (6213, 784)\n",
            "shape of y_val: (6213, 10)\n",
            "validation data - percentage [0.18, 0.19, 0.14, 0.12, 0.1, 0.09, 0.07, 0.06, 0.04, 0.02]\n"
          ]
        },
        {
          "output_type": "display_data",
          "data": {
            "text/plain": [
              "<Figure size 1000x400 with 2 Axes>"
            ],
            "image/png": "[encoded data removed]"
          },
          "metadata": {}
        }
      ],
      "source": [
        "X_noise_train, Y_noise_train, X_noise_test = load_data('advanced_data.npz')\n",
        "x_noise_train, y_noise_train, x_noise_val, y_noise_val = data_preprocess(X_noise_train, Y_noise_train)"
      ]
    },
    {
      "cell_type": "code",
      "execution_count": 21,
      "metadata": {
        "id": "Jc4IanGUaVLI"
      },
      "outputs": [],
      "source": [
        "# GRADED CODE: DATA CENTRALIZATION\n",
        "### START CODE HERE ###\n",
        "'''\n",
        "x_noise_train_cent -> Centeralized training data\n",
        "x_noise_val_cent -> Centeralized validation data\n",
        "x_noise_test_cent -> Centeralized testing data\n",
        "'''\n",
        "x_noise_train_cent = x_noise_train - np.mean(x_noise_train, axis = 0)\n",
        "x_noise_val_cent = x_noise_val - np.mean(x_noise_train, axis = 0)\n",
        "X_noise_test_cent = X_noise_test - np.mean(x_noise_train, axis = 0)\n",
        "### END CODE HERE ###"
      ]
    },
    {
      "cell_type": "code",
      "execution_count": 22,
      "metadata": {
        "id": "mymo_kwRpkCe"
      },
      "outputs": [],
      "source": [
        "# YOU CAN DO PCA HERE TO COMPARE THE PERFORMANCE WITH SPARCEPCA (NOT FOR GRADING)\n",
        "# PCA PART\n",
        "### START CODE HERE ###\n",
        "#PCA PART\n",
        "None\n",
        "\n",
        "#TRAIN WITH ORIGINAL DATA\n",
        "None\n",
        "\n",
        "#TRAIN WITH PCA DATA\n",
        "None\n",
        "\n",
        "### END CODE HERE ###"
      ]
    },
    {
      "cell_type": "markdown",
      "metadata": {
        "id": "e_j0V7OepkCf"
      },
      "source": [
        "### SparsePCA"
      ]
    },
    {
      "cell_type": "code",
      "execution_count": 23,
      "metadata": {
        "colab": {
          "base_uri": "https://localhost:8080/"
        },
        "id": "uaQm8wD4pkCf",
        "outputId": "42925428-9e82-4410-d4ac-4e7aaf75b9b4"
      },
      "outputs": [
        {
          "output_type": "stream",
          "name": "stderr",
          "text": [
            "100%|██████████| 1000/1000 [06:40<00:00,  2.50it/s]\n"
          ]
        }
      ],
      "source": [
        "n_components = 2\n",
        "sparse_pca = MY_SparsePCA(n_components, 0.001, 1000)\n",
        "\n",
        "# GRADED CODE: SPARSE PCA IMPLEMENT\n",
        "### START CODE HERE ###\n",
        "'''\n",
        "x_train_spca -> Sparse PCA of training data\n",
        "x_val_spca -> Sparse PCA of validation data\n",
        "x_test_spca -> Sparse PCA of testing data\n",
        "'''\n",
        "x_train_spca = sparse_pca.fit_transform(x_noise_train_cent)\n",
        "x_val_spca = sparse_pca.transform(x_noise_val_cent)\n",
        "x_test_spca = sparse_pca.transform(X_noise_test_cent)\n",
        "### END CODE HERE ###"
      ]
    },
    {
      "cell_type": "code",
      "execution_count": 24,
      "metadata": {
        "colab": {
          "base_uri": "https://localhost:8080/"
        },
        "id": "YaKLNth0pkCf",
        "outputId": "89976e70-79a1-450a-8abc-ebd9eef56a76"
      },
      "outputs": [
        {
          "output_type": "stream",
          "name": "stdout",
          "text": [
            "Sparse_pca init Vt:  1.7416042787300982e-20\n",
            "x_train_spca:  [-0.229 -0.762]\n"
          ]
        }
      ],
      "source": [
        "### For grading please put sparse_pca_check and sparse_Vt in output.npy\n",
        "sparse_pca_check = x_train_spca\n",
        "sparse_Vt = sparse_pca.Vt[0][0]\n",
        "\n",
        "print('Sparse_pca init Vt: ', sparse_Vt)\n",
        "print('x_train_spca: ', sparse_pca_check[0].round(3))"
      ]
    },
    {
      "cell_type": "markdown",
      "metadata": {
        "id": "cPifu_98pkCf"
      },
      "source": [
        "**Expected Output**\n",
        "$$ Sparse\\_pca\\ init\\ Vt:\\ 1.74160428e^{-20} $$\n",
        "$$ x\\_train\\_spca:\\ [-0.229\\ \\ -0.762]$$"
      ]
    },
    {
      "cell_type": "markdown",
      "metadata": {
        "id": "QOiP_Sb4aVLK"
      },
      "source": [
        "## Sparse PCA imple"
      ]
    },
    {
      "cell_type": "code",
      "execution_count": 25,
      "metadata": {
        "colab": {
          "base_uri": "https://localhost:8080/"
        },
        "id": "rBgWV8tOpkCf",
        "outputId": "ab16ff83-800f-4709-8965-888b78852426"
      },
      "outputs": [
        {
          "output_type": "stream",
          "name": "stderr",
          "text": [
            "100%|██████████| 1000/1000 [45:48<00:00,  2.75s/it]\n"
          ]
        }
      ],
      "source": [
        "# GRADED CODE: SPARSE PCA IMPLEMENT\n",
        "### START CODE HERE ###\n",
        "'''\n",
        "n_components -> Number of components fo Sparse PCA, and it will be the input dimension of your basic model.\n",
        "sparse_pca -> Please use\n",
        "x_train_spca -> Sparse PCA of training data\n",
        "x_val_spca -> Sparse PCA of validation data\n",
        "x_test_spca -> Sparse PCA of testing data\n",
        "'''\n",
        "n_components = 400\n",
        "sparse_pca = MY_SparsePCA(n_components, 0.001)\n",
        "x_train_spca = sparse_pca.fit_transform(x_noise_train_cent)\n",
        "x_val_spca = sparse_pca.transform(x_noise_val_cent)\n",
        "x_test_spca = sparse_pca.transform(X_noise_test_cent)\n",
        "### END CODE HERE ###"
      ]
    },
    {
      "cell_type": "markdown",
      "metadata": {
        "id": "WAOkjaeUaVLL"
      },
      "source": [
        "## Model"
      ]
    },
    {
      "cell_type": "code",
      "execution_count": 26,
      "metadata": {
        "id": "68jwX8Q9pkCf",
        "colab": {
          "base_uri": "https://localhost:8080/",
          "height": 273
        },
        "outputId": "4b4590a9-8ba4-4719-c67b-7d02bde772a8"
      },
      "outputs": [
        {
          "output_type": "stream",
          "name": "stdout",
          "text": [
            "Loss after iteration 0: 27.866048\n"
          ]
        },
        {
          "output_type": "display_data",
          "data": {
            "text/plain": [
              "<Figure size 400x200 with 1 Axes>"
            ],
            "image/png": "[encoded data removed]"
          },
          "metadata": {}
        }
      ],
      "source": [
        "config = Config([n_components, 64, 10], 'focal_loss')\n",
        "\n",
        "# GRADED CODE: SPARSE PCA IMPLEMENT\n",
        "# Please call Model.ipynb and Trainer.ipynb to define and train your model.\n",
        "### START CODE HERE ###\n",
        "model = Model(config)\n",
        "trainer(model, config, x_train_spca, y_noise_train)\n",
        "### END CODE HERE ###"
      ]
    },
    {
      "cell_type": "code",
      "execution_count": 27,
      "metadata": {
        "id": "37ufPicrpkCf",
        "colab": {
          "base_uri": "https://localhost:8080/"
        },
        "outputId": "891fc899-abd2-4024-f137-813adf3e82c6"
      },
      "outputs": [
        {
          "output_type": "stream",
          "name": "stdout",
          "text": [
            "Accuracy: 91.02%\n",
            "f1 score for each class: [0.87279197 0.967547   0.90396297 0.92207389 0.93173293 0.86580287\n",
            " 0.90167364 0.89767898 0.86732673 0.89452333]\n",
            "f1_macro score: 0.90\n"
          ]
        }
      ],
      "source": [
        "sparse_pred_train = predict(x_train_spca, y_noise_train, model)"
      ]
    },
    {
      "cell_type": "code",
      "execution_count": 28,
      "metadata": {
        "id": "FGRpXBDHpkCf",
        "colab": {
          "base_uri": "https://localhost:8080/"
        },
        "outputId": "b3a0b5fc-54f4-4a09-8a39-e5e530f04c21"
      },
      "outputs": [
        {
          "output_type": "stream",
          "name": "stdout",
          "text": [
            "Accuracy: 86.51%\n",
            "f1 score for each class: [0.86670046 0.95975503 0.86196855 0.87935657 0.8660106  0.82700422\n",
            " 0.83495146 0.81595882 0.72156863 0.64705882]\n",
            "f1_macro score: 0.83\n"
          ]
        }
      ],
      "source": [
        "sparse_pred_val = predict(x_val_spca, y_noise_val, model)"
      ]
    },
    {
      "cell_type": "code",
      "execution_count": 29,
      "metadata": {
        "id": "5TYy_jPoaVLM"
      },
      "outputs": [],
      "source": [
        "sparse_pred_test = predict(x_test_spca, None, model)"
      ]
    },
    {
      "cell_type": "markdown",
      "metadata": {
        "id": "IW8QfTeppkCg"
      },
      "source": [
        "### Advanced Ranking\n",
        "In the advanced ranking section, you are allowed to integrate PCA with additional data preprocessing. However, please note that you are not permitted to use existing data preprocessing and PCA libraries, modify the model's architecture, or alter the predetermined configuration."
      ]
    },
    {
      "cell_type": "code",
      "execution_count": 30,
      "metadata": {
        "id": "22mgiGxgpkCk"
      },
      "outputs": [],
      "source": [
        "# GRADED CODE: RANKING PART DO YOUR DATA PREPROCESS HERE (10%)\n",
        "## input_dim comment ex. number of  principle components or image dim\n",
        "## loss function = 'focal loss' or 'crossentropy'\n",
        "### START CODE HERE ###\n",
        "'''\n",
        "input_dim -> The first input dimension of your model\n",
        "eg. It could be the number of principle comopnents or original data dimension. Its depends on your data preprocess\n",
        "\n",
        "loss_function -> You can choose the loss function from HW3. (eg. 'focal_loss')\n",
        "'''\n",
        "input_dim = 400\n",
        "loss_function = 'focal_loss'\n",
        "\n",
        "### END CODE HERE ###"
      ]
    },
    {
      "cell_type": "code",
      "execution_count": 31,
      "metadata": {
        "id": "weBmleOapkCk",
        "colab": {
          "base_uri": "https://localhost:8080/",
          "height": 273
        },
        "outputId": "413ca099-f0df-44f1-be9e-982a21fa988d"
      },
      "outputs": [
        {
          "output_type": "stream",
          "name": "stdout",
          "text": [
            "Loss after iteration 0: 26.661415\n"
          ]
        },
        {
          "output_type": "display_data",
          "data": {
            "text/plain": [
              "<Figure size 400x200 with 1 Axes>"
            ],
            "image/png": "[encoded data removed]"
          },
          "metadata": {}
        }
      ],
      "source": [
        "adv_config = Config([input_dim, 128, 10], loss_function)\n",
        "adv_model = Model(adv_config)\n",
        "\n",
        "# GRADED CODE: RANKING PART DO YOUR TRAINING WORK HERE\n",
        "# Please call Trainer.ipynb to train the adv_model.\n",
        "### START CODE HERE ###\n",
        "pca = MY_PCA(input_dim)\n",
        "x_train_pca = pca.fit_transform(x_noise_train_cent)\n",
        "x_val_pca = pca.transform(x_noise_val_cent)\n",
        "x_test_pca = pca.transform(X_noise_test_cent)\n",
        "trainer(adv_model, adv_config, x_train_pca, y_noise_train)\n",
        "adv_pred_test = predict(x_test_pca, None, adv_model)\n",
        "### END CODE HERE ###"
      ]
    },
    {
      "cell_type": "code",
      "execution_count": 32,
      "metadata": {
        "id": "kJ2FzB9LpkCl"
      },
      "outputs": [],
      "source": [
        "# for grading\n",
        "outputs[\"sparse_Vt\"] = sparse_Vt\n",
        "outputs[\"sparse_pca\"] = sparse_pca_check\n",
        "outputs[\"sparse_pred_train\"] = sparse_pred_train\n",
        "outputs[\"sparse_pred_val\"] = sparse_pred_val\n",
        "outputs[\"sparse_pred_test\"] = sparse_pred_test\n",
        "\n",
        "outputs[\"advanced_pred_test\"] = adv_pred_test\n",
        "outputs[\"advanced_layers_dims\"] = adv_config.layers_dims\n",
        "outputs[\"advanced_activation_fn\"] = adv_config.activation_fn\n",
        "outputs[\"advanced_loss_function\"] = adv_config.loss_function\n",
        "outputs[\"advanced_alpha\"] = adv_config.alpha\n",
        "outputs[\"advanced_gamma\"] = adv_config.gamma\n",
        "\n",
        "\n",
        "advanced_model_parameters = []\n",
        "for advanced_linear in adv_model.linear:\n",
        "    advanced_model_parameters.append(advanced_linear.parameters)\n",
        "outputs[\"advanced_model_parameters\"] = advanced_model_parameters"
      ]
    },
    {
      "cell_type": "code",
      "execution_count": 33,
      "metadata": {
        "id": "hUby8TzUpkCl"
      },
      "outputs": [],
      "source": [
        "# sanity check\n",
        "assert list(outputs.keys()) == [\n",
        "    'basic_pred_test',\\\n",
        "    'basic_layers_dims',\\\n",
        "    'basic_activation_fn',\\\n",
        "    'basic_loss_function',\\\n",
        "    'basic_alpha',\\\n",
        "    'basic_gamma',\\\n",
        "    'basic_reconstruct_data_train',\\\n",
        "    'basic_reconstruct_data_val',\\\n",
        "    'basic_covariance_matrix',\\\n",
        "    'basic_var_ratio',\\\n",
        "    'basic_model_parameters',\\\n",
        "    'sparse_Vt',\\\n",
        "    'sparse_pca',\\\n",
        "    'sparse_pred_train',\\\n",
        "    'sparse_pred_val',\\\n",
        "    'sparse_pred_test',\\\n",
        "    'advanced_pred_test',\\\n",
        "    'advanced_layers_dims',\\\n",
        "    'advanced_activation_fn',\\\n",
        "    'advanced_loss_function',\\\n",
        "    'advanced_alpha',\\\n",
        "    'advanced_gamma',\\\n",
        "    'advanced_model_parameters'],\\\n",
        "\"You're missing something, please restart the kernel and run the code from begining to the end. If the same error occurs, maybe you deleted some outputs, check the template to find the missing parts!\""
      ]
    },
    {
      "cell_type": "code",
      "execution_count": 34,
      "metadata": {
        "id": "sPrjpchApkCl"
      },
      "outputs": [],
      "source": [
        "np.save(\"output.npy\", outputs)"
      ]
    },
    {
      "cell_type": "code",
      "execution_count": 35,
      "metadata": {
        "id": "IWS0c4IkpkCl",
        "colab": {
          "base_uri": "https://localhost:8080/"
        },
        "outputId": "7bd6397d-38af-49ee-af13-7526c40fb6a9"
      },
      "outputs": [
        {
          "output_type": "stream",
          "name": "stdout",
          "text": [
            "basic_pred_test： <class 'numpy.ndarray'>\n",
            "basic_layers_dims： <class 'list'>\n",
            "basic_activation_fn： <class 'list'>\n",
            "basic_loss_function： <class 'str'>\n",
            "basic_alpha： <class 'numpy.ndarray'>\n",
            "basic_gamma： <class 'float'>\n",
            "basic_reconstruct_data_train： <class 'numpy.ndarray'>\n",
            "basic_reconstruct_data_val： <class 'numpy.ndarray'>\n",
            "basic_covariance_matrix： <class 'numpy.ndarray'>\n",
            "basic_var_ratio： <class 'numpy.ndarray'>\n",
            "basic_model_parameters： <class 'list'>\n",
            "sparse_Vt： <class 'numpy.float64'>\n",
            "sparse_pca： <class 'numpy.ndarray'>\n",
            "sparse_pred_train： <class 'numpy.ndarray'>\n",
            "sparse_pred_val： <class 'numpy.ndarray'>\n",
            "sparse_pred_test： <class 'numpy.ndarray'>\n",
            "advanced_pred_test： <class 'numpy.ndarray'>\n",
            "advanced_layers_dims： <class 'list'>\n",
            "advanced_activation_fn： <class 'list'>\n",
            "advanced_loss_function： <class 'str'>\n",
            "advanced_alpha： <class 'numpy.ndarray'>\n",
            "advanced_gamma： <class 'float'>\n",
            "advanced_model_parameters： <class 'list'>\n"
          ]
        }
      ],
      "source": [
        "# sanity check\n",
        "submit = np.load(\"output.npy\", allow_pickle=True).item()\n",
        "for key, value in submit.items():\n",
        "    print(str(key) + \"： \" + str(type(value)))"
      ]
    }
  ],
  "metadata": {
    "colab": {
      "provenance": []
    },
    "kernelspec": {
      "display_name": "Python 3 (ipykernel)",
      "language": "python",
      "name": "python3"
    },
    "language_info": {
      "codemirror_mode": {
        "name": "ipython",
        "version": 3
      },
      "file_extension": ".py",
      "mimetype": "text/x-python",
      "name": "python",
      "nbconvert_exporter": "python",
      "pygments_lexer": "ipython3",
      "version": "3.11.5"
    },
    "vscode": {
      "interpreter": {
        "hash": "bc07a8c6aa785ccbb5cb0815abffaffb139b111aca417c4ffe9bf221bae76ba2"
      }
    }
  },
  "nbformat": 4,
  "nbformat_minor": 0
}